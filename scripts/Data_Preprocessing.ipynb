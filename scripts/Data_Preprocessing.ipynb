{
 "cells": [
  {
   "cell_type": "markdown",
   "id": "98706457-fb7e-4510-8b33-d918ed8ee683",
   "metadata": {},
   "source": [
    "<span style=\"font-family: 'Georgia', serif; font-size: 24px; color: #2c7fb8;\">\n",
    "    1. Functions and Libraries\n",
    "</span>"
   ]
  },
  {
   "cell_type": "code",
   "execution_count": null,
   "id": "fb922e8d-f403-4a8b-ad34-748711564e76",
   "metadata": {},
   "outputs": [],
   "source": [
    "from Preprocessing import *"
   ]
  },
  {
   "cell_type": "markdown",
   "id": "2c8e8be6-0f18-45d0-a012-adc652447240",
   "metadata": {},
   "source": [
    "<span style=\"font-family: 'Georgia', serif; font-size: 24px; color: #2c7fb8;\">\n",
    "    2. Load Data\n",
    "</span>"
   ]
  },
  {
   "cell_type": "markdown",
   "id": "ebe2f748-80c0-4612-a831-6e5f14cc63eb",
   "metadata": {},
   "source": [
    "<span style=\"font-family: 'Georgia', serif; font-size: 20px; color: #2c7fb8;\">\n",
    "    Transform Data: From Json to Dictionary\n",
    "</span>"
   ]
  },
  {
   "cell_type": "code",
   "execution_count": null,
   "id": "2b8ad316-95fe-403f-bba0-f3eb581001b4",
   "metadata": {},
   "outputs": [],
   "source": [
    "# list to collect all teams information\n",
    "teams_info = []\n",
    "\n",
    "# Folder Path of Json Files\n",
    "folder_path = r\"Enter your path to the folder of Json files\"\n",
    "\n",
    "# Collect names of all the json files\n",
    "for filename in os.listdir(folder_path):\n",
    "    if filename.endswith('.json'):\n",
    "        file_path = os.path.join(folder_path, filename)\n",
    "        \n",
    "        # Read the json files\n",
    "        with open(file_path, 'r', encoding='utf-8') as file:\n",
    "            data = json.load(file)\n",
    "            \n",
    "            # Collect track result from Sessions_List\n",
    "            for session in data['Sessions_List']:\n",
    "                if (session['Age_X_axis'] >= 3) and (session['Age_X_axis'] <= 90) and \\\n",
    "                (session['Age_Y_axis'] >= 3) and (session['Age_Y_axis'] <= 90):\n",
    "                    tracks_result = [track for track in session['Track_Results']]\n",
    "                    if tracks_result != []:\n",
    "                        # Put the information into a list\n",
    "                        team_info = {\n",
    "                            'ID': session['ID'],\n",
    "                            'Age_X_axis': session['Age_X_axis'],\n",
    "                            'Age_Y_axis': session['Age_Y_axis'],\n",
    "                            'Track_Results': tracks_result\n",
    "                            }\n",
    "                        teams_info.append(team_info)\n",
    "\n",
    "\n",
    "print(\"Number of Teams\")\n",
    "print(len(teams_info))"
   ]
  },
  {
   "cell_type": "markdown",
   "id": "ec095651-2bc6-4c9a-b163-8dccf7b33c6f",
   "metadata": {},
   "source": [
    "<span style=\"font-family: 'Georgia', serif; font-size: 20px; color: #2c7fb8;\">\n",
    "    Extract important features and transform to Dataframe\n",
    "</span>"
   ]
  },
  {
   "cell_type": "code",
   "execution_count": null,
   "id": "fb22c447-cf74-4a4e-b305-184ddd4beb2d",
   "metadata": {},
   "outputs": [],
   "source": [
    "count = 0 #This is just to monitor the code\n",
    "array_col = []\n",
    "\n",
    "\"\"\"\n",
    "# Excluding teams do not fit into the age group predefined\n",
    "# Excluding track record that are neither complete nor made mistakes\n",
    "\"\"\"\n",
    "\n",
    "\n",
    "for item in teams_info:\n",
    "    count = count + 1\n",
    "    print(count)\n",
    "\n",
    "    rela = determine_relationship(item['Age_X_axis'],item['Age_Y_axis']) #\n",
    "\n",
    "    #Excluding those does not fit into the age group standard\n",
    "    if rela != -1:\n",
    "        for trail in item[\"Track_Results\"]:\n",
    "            \n",
    "            if not trail[\"Completed\"] and not trail[\"Mistake\"]:# Remove these, should be restarted cases\n",
    "                continue\n",
    "        \n",
    "            \n",
    "            \"\"\"\n",
    "            If you don't need the trajectory data, you don't have to run this block\n",
    "            \n",
    "            x_aix = [x[\"X\"] for x in trail[\"Points\"]]\n",
    "            y_aix = [y[\"Y\"] for y in trail[\"Points\"]]\n",
    "            time_aix = [time[\"Time\"] for time in trail[\"Points\"]]\n",
    "            \n",
    "            # Interpolation and remove waiting (Run either one, depends on whether you want to remove the waiting coordinates)\n",
    "            #lent_x,lent_y = remove_begin(interpolate(x_aix,time_aix),interpolate(y_aix,time_aix)) \n",
    "            #lent_x,lent_y = interpolate((x_aix,time_aix),interpolate(y_aix,time_aix))\n",
    "\n",
    "            # Calculate the time when ball is not moving at the beginning\n",
    "            #still_time = calculate_initial_still_time(lent_x,lent_y)\n",
    "\n",
    "            # Calculate Distances\n",
    "            #distance = calculate_total_distance(lent_x,lent_y)\n",
    "\n",
    "            If you don't need the trajectory data, you don't have to run this block\n",
    "            \"\"\"\n",
    "        \n",
    "            array_col.append({\"ID\":item[\"ID\"],\n",
    "                              \"track\":trail[\"Track_ID\"],\n",
    "                              \"time\":trail[\"StartTime\"],\n",
    "                              \"Age_group\":rela,\n",
    "                              #\"x\":lent_x,  #If you need trajectory data, also uncomment this\n",
    "                              #\"y\":lent_y,  #If you need trajectory data, also uncomment this\n",
    "                              \"agex\":item[\"Age_X_axis\"],\n",
    "                              \"agey\":item[\"Age_Y_axis\"],\n",
    "                              \"time_spent\":trail[\"Time\"], # Counting the datapoints after interpolation\n",
    "                              \"Complete\":trail[\"Completed\"],\n",
    "                              \"Mistake\":trail[\"Mistake\"],\n",
    "                              #\"Interface\":trail[\"Interface_Mode\"],# Whether the team has turned on the interface mode\n",
    "                              \"Difficulty_Level\":trail[\"Difficulty_Level\"]+1,\n",
    "                              #\"Distance\":distance\n",
    "                            })\n",
    "\n"
   ]
  },
  {
   "cell_type": "code",
   "execution_count": null,
   "id": "1dc88b77-5239-4a52-b868-531b127ceb4a",
   "metadata": {},
   "outputs": [],
   "source": [
    "df = pd.DataFrame(array_col) #117683 rows\n",
    "df = df.reset_index(drop=True)"
   ]
  },
  {
   "cell_type": "markdown",
   "id": "6122e6e1-6947-4458-88f3-203fcd5bddab",
   "metadata": {},
   "source": [
    "<span style=\"font-family: 'Georgia', serif; font-size: 24px; color: #2c7fb8;\">\n",
    "    3. Data Filtering\n",
    "</span>"
   ]
  },
  {
   "cell_type": "markdown",
   "id": "68f4fc08-c974-4ef3-88c2-8b348e764d19",
   "metadata": {},
   "source": [
    "<span style=\"font-family: 'Georgia', serif; font-size: 20px; color: #2c7fb8;\">\n",
    "    Find ID with success in Level 3\n",
    "</span>"
   ]
  },
  {
   "cell_type": "code",
   "execution_count": null,
   "id": "42e4615f-7d73-4b63-9f9d-f79efeeb1da2",
   "metadata": {},
   "outputs": [],
   "source": [
    "def find_id_Level3_success(df):\n",
    "    \"\"\"\n",
    "    Filter the DataFrame to retain IDs that have at least one entry \n",
    "    with Difficulty_Level=3 and Complete=True, keeping all records of those IDs.\n",
    "    \n",
    "    Args:\n",
    "        df (pd.DataFrame): Input DataFrame with columns 'ID', 'Difficulty_Level', and 'Complete'\n",
    "        \n",
    "    Returns:\n",
    "        pd.DataFrame: Filtered DataFrame containing all records of valid IDs\n",
    "    \"\"\"\n",
    "    # Select rows where Difficulty_Level is 3 and Complete is True\n",
    "    filtered_rows = df[(df['Difficulty_Level'] == 3) & (df['Complete'] == True)]\n",
    "    \n",
    "    # Extract unique IDs from the filtered rows\n",
    "    valid_ids = filtered_rows['ID'].unique()\n",
    "    \n",
    "    # Filter the original DataFrame to keep all records of valid IDs\n",
    "    result = df[df['ID'].isin(valid_ids)]\n",
    "    \n",
    "    return result\n"
   ]
  },
  {
   "cell_type": "code",
   "execution_count": null,
   "id": "3c1d6e8a-c905-4f38-a37f-4ae79163b93d",
   "metadata": {},
   "outputs": [],
   "source": [
    "df2 = find_id_Level3_success(df)"
   ]
  },
  {
   "cell_type": "code",
   "execution_count": null,
   "id": "e1287680-856c-4e17-9167-18a422c1eef5",
   "metadata": {},
   "outputs": [],
   "source": [
    "df2 = df2.reset_index(drop=True)"
   ]
  },
  {
   "cell_type": "code",
   "execution_count": null,
   "id": "eb597790-f75d-498a-9270-ac8626e9167d",
   "metadata": {},
   "outputs": [],
   "source": [
    "def difficulty_3_exist(df):\n",
    "    filtered_ids = df[df['Difficulty_Level'] == 3]['ID'] \n",
    "    return df[df['ID'].isin(filtered_ids)]"
   ]
  },
  {
   "cell_type": "code",
   "execution_count": null,
   "id": "7cb021d3-8372-40aa-97c2-935cf73dc37b",
   "metadata": {},
   "outputs": [],
   "source": [
    "df2 = difficulty_3_exist(df)"
   ]
  },
  {
   "cell_type": "markdown",
   "id": "9e8494f4-f858-482a-9774-2d322434bfa6",
   "metadata": {},
   "source": [
    "<span style=\"font-family: 'Georgia', serif; font-size: 20px; color: #2c7fb8;\">\n",
    "    Remove records after completing the game\n",
    "</span>"
   ]
  },
  {
   "cell_type": "code",
   "execution_count": null,
   "id": "955bbab4-4293-463d-b835-585c400d6f89",
   "metadata": {},
   "outputs": [],
   "source": [
    "def remove_after_game_completed(df):\n",
    "    # Sort the DataFrame by ID and time\n",
    "    df_sorted = df.sort_values(['ID', 'time'])\n",
    "    \n",
    "    # For each ID, find the first occurrence where Complete is True and Difficulty_Level is 3\n",
    "    mask = (df_sorted['Complete'] == True) & (df_sorted['Difficulty_Level'] == 3)\n",
    "    first_true_indices = df_sorted[mask].groupby('ID')['time'].idxmin()\n",
    "    \n",
    "    # Create a mask to keep rows\n",
    "    keep_mask = pd.Series(True, index=df_sorted.index)\n",
    "    \n",
    "    # For each ID, exclude rows after the first occurrence where Complete is True and Difficulty_Level is 3\n",
    "    for id_val, idx in first_true_indices.items():\n",
    "        id_rows = df_sorted.index[df_sorted['ID'] == id_val]\n",
    "        rows_after = id_rows[id_rows > idx]\n",
    "        keep_mask[rows_after] = False\n",
    "    \n",
    "    # Apply the mask and return the result\n",
    "    return df_sorted[keep_mask]"
   ]
  },
  {
   "cell_type": "code",
   "execution_count": null,
   "id": "d7b61adc-e2b9-4ce1-aee7-92e59e6fb031",
   "metadata": {},
   "outputs": [],
   "source": [
    "df3 = remove_after_game_completed(df2)\n",
    "df3 = df3.reset_index(drop=True)"
   ]
  },
  {
   "cell_type": "code",
   "execution_count": null,
   "id": "76269df4-abdc-4e66-830a-cce6a9093cf1",
   "metadata": {},
   "outputs": [],
   "source": [
    "def keep_assigned_track3(df):\n",
    "    \"\"\"\n",
    "    Filters the DataFrame to retain only data where the track changed exactly three times in chronological order for each ID\n",
    "    \n",
    "    Parameters:\n",
    "    df (pd.DataFrame): Input DataFrame containing columns 'track', 'ID', and 'time'\n",
    "    \n",
    "    Returns:\n",
    "    pd.DataFrame: Filtered DataFrame\n",
    "    \"\"\"\n",
    "    # Ensure data is sorted by ID and time\n",
    "    df = df.sort_values(['ID', 'time'])\n",
    "    \n",
    "    # Create result DataFrame\n",
    "    result_df = pd.DataFrame(columns=df.columns)\n",
    "    \n",
    "    # Process each ID group\n",
    "    for id_value, group in df.groupby('ID'):\n",
    "        track_changes = []\n",
    "        current_track = None\n",
    "        \n",
    "        # Record each track change\n",
    "        for _, row in group.iterrows():\n",
    "            if row['track'] != current_track:\n",
    "                current_track = row['track']\n",
    "                track_changes.append(current_track)\n",
    "                \n",
    "            # Keep only the first three distinct tracks\n",
    "            if len(track_changes) <= 3:\n",
    "                result_df = pd.concat([result_df, pd.DataFrame([row])], ignore_index=True)\n",
    "    \n",
    "    return result_df"
   ]
  },
  {
   "cell_type": "code",
   "execution_count": null,
   "id": "7c12a5d6-e405-4ad5-9ac9-3ce299d3884c",
   "metadata": {},
   "outputs": [],
   "source": [
    "df3 = keep_assigned_track3(df2)\n",
    "df3 = df3.reset_index(drop=True)"
   ]
  },
  {
   "cell_type": "markdown",
   "id": "e0940ce2-8ef5-48ce-9b03-421eda6288d4",
   "metadata": {},
   "source": [
    "<span style=\"font-family: 'Georgia', serif; font-size: 24px; color: #2c7fb8;\">\n",
    "    4. Feature Generation\n",
    "</span>"
   ]
  },
  {
   "cell_type": "markdown",
   "id": "ac0af78a-4c2a-41ca-b099-837bb1c84065",
   "metadata": {},
   "source": [
    "<span style=\"font-family: 'Georgia', serif; font-size: 20px; color: #2c7fb8;\">\n",
    "    Track Feature\n",
    "</span>"
   ]
  },
  {
   "cell_type": "code",
   "execution_count": null,
   "id": "53baff22-0a38-451b-a473-5ba3c0b7f577",
   "metadata": {},
   "outputs": [],
   "source": [
    "def create_track_feature(input_df):\n",
    "    \"\"\"\n",
    "    Create a feature dataset from the original DataFrame\n",
    "    \n",
    "    Parameters:\n",
    "    input_df (pd.DataFrame): Original dataset containing columns ID, Difficulty_Level, and track\n",
    "    \n",
    "    Returns:\n",
    "    pd.DataFrame: Generated feature dataset\n",
    "    \"\"\"\n",
    "    # Create an empty DataFrame to store features\n",
    "    feature_df = pd.DataFrame()\n",
    "    \n",
    "    # Directly retain the ID column\n",
    "    feature_df['ID'] = input_df['ID'].unique()\n",
    "    \n",
    "    # Create a column for each difficulty level to store the corresponding track number\n",
    "    for level in [1, 2, 3]:\n",
    "        # Filter data for the current difficulty level and take the first track value for each ID\n",
    "        level_data = input_df[input_df['Difficulty_Level'] == level].groupby('ID').first().reset_index()\n",
    "        \n",
    "        # Rename the column\n",
    "        level_data = level_data.rename(columns={'track': f'track_level_{level}'})\n",
    "        \n",
    "        # Merge the results into the feature DataFrame\n",
    "        feature_df = pd.merge(feature_df, level_data[['ID', f'track_level_{level}']], on='ID', how='left')\n",
    "    \n",
    "    return feature_df"
   ]
  },
  {
   "cell_type": "code",
   "execution_count": null,
   "id": "e9d90374-4d17-43af-ad47-beaf9b9fb2c6",
   "metadata": {},
   "outputs": [],
   "source": [
    "track_feature = create_track_feature(df3)"
   ]
  },
  {
   "cell_type": "markdown",
   "id": "6e5aab0c-6188-4350-a6be-cf6f168d81bb",
   "metadata": {},
   "source": [
    "<span style=\"font-family: 'Georgia', serif; font-size: 20px; color: #2c7fb8;\">\n",
    "    Attempts Feature\n",
    "</span>"
   ]
  },
  {
   "cell_type": "code",
   "execution_count": null,
   "id": "fce03711-65f1-4488-8bc3-803a716f38b7",
   "metadata": {},
   "outputs": [],
   "source": [
    "def create_attempts_features(df):\n",
    "    \"\"\"\n",
    "    Generate new features from the team experiment records DataFrame.\n",
    "    \n",
    "    Parameters:\n",
    "    df (pd.DataFrame): DataFrame containing experiment records with columns 'ID', 'Difficulty_Level', and 'Complete'\n",
    "    \n",
    "    Returns:\n",
    "    pd.DataFrame: DataFrame with newly generated features\n",
    "    \"\"\"\n",
    "    # Ensure required columns exist\n",
    "    required_columns = ['ID', 'Difficulty_Level', 'Complete']\n",
    "    for col in required_columns:\n",
    "        if col not in df.columns:\n",
    "            raise ValueError(f\"Input DataFrame is missing required column: {col}\")\n",
    "    \n",
    "    # Count rows where Difficulty_Level is 1 for each ID\n",
    "    level1_count = df[df['Difficulty_Level'] == 1].groupby('ID').size().reset_index(name='Level1_Count')\n",
    "    \n",
    "    # Count rows where Difficulty_Level is 2 for each ID\n",
    "    level2_count = df[df['Difficulty_Level'] == 2].groupby('ID').size().reset_index(name='Level2_Count')\n",
    "\n",
    "    # Count rows where Difficulty_Level is 3 for each ID\n",
    "    level3_count = df[df['Difficulty_Level'] == 3].groupby('ID').size().reset_index(name='Level3_Count')\n",
    "\n",
    "    # Count rows where Difficulty_Level is 3 and Complete is False for each ID\n",
    "    level1_incomplete_count = df[(df['Difficulty_Level'] == 1) & \n",
    "                                 (df['Complete'] == False)].groupby('ID').size().reset_index(name='Level1_Incomplete_Count')\n",
    "    # Count rows where Difficulty_Level is 3 and Complete is False for each ID\n",
    "    level2_incomplete_count = df[(df['Difficulty_Level'] == 2) & \n",
    "                                 (df['Complete'] == False)].groupby('ID').size().reset_index(name='Level2_Incomplete_Count')\n",
    "    \n",
    "    # Count rows where Difficulty_Level is 3 and Complete is False for each ID\n",
    "    level3_incomplete_count = df[(df['Difficulty_Level'] == 3) & \n",
    "                                 (df['Complete'] == False)].groupby('ID').size().reset_index(name='Level3_Incomplete_Count')\n",
    "    \n",
    "    # Merge results\n",
    "    result = level1_count\n",
    "    for count_df in [level2_count, level3_count, level1_incomplete_count, level2_incomplete_count, level3_incomplete_count]:\n",
    "        result = pd.merge(result, count_df, on='ID', how='left')\n",
    "\n",
    "\n",
    "    # Fill NaN values with 0 (if no records match the condition for an ID)\n",
    "    result = result.fillna(0)\n",
    "    \n",
    "    # Ensure count columns are of integer type\n",
    "    for col in ['Level1_Count', 'Level2_Count', 'Level3_Count', 'Level1_Incomplete_Count', 'Level2_Incomplete_Count', 'Level3_Incomplete_Count']:\n",
    "        result[col] = result[col].astype(int)\n",
    "    \n",
    "    return result"
   ]
  },
  {
   "cell_type": "code",
   "execution_count": null,
   "id": "bea9def7-29db-408a-b9d8-e839f15a53dc",
   "metadata": {},
   "outputs": [],
   "source": [
    "attempts_feature = create_attempts_features(df3)"
   ]
  },
  {
   "cell_type": "code",
   "execution_count": null,
   "id": "d6e29dab-cd5b-4cd1-9616-a7044348b12b",
   "metadata": {},
   "outputs": [],
   "source": [
    "# Distribution of attempts in Level 3\n",
    "counts = attempts_feature['Level3_Count'].value_counts()"
   ]
  },
  {
   "cell_type": "markdown",
   "id": "f048e908-334b-47ab-bb00-d0c62816bad6",
   "metadata": {},
   "source": [
    "<span style=\"font-family: 'Georgia', serif; font-size: 20px; color: #2c7fb8;\">\n",
    "    Time Spent Feature\n",
    "</span>"
   ]
  },
  {
   "cell_type": "code",
   "execution_count": null,
   "id": "19aaf373-e06c-4f34-b431-c8c2065cf104",
   "metadata": {},
   "outputs": [],
   "source": [
    "def create_times_features(df):\n",
    "    \"\"\"\n",
    "    Generate new features from the team experiment records DataFrame.\n",
    "    \n",
    "    Parameters:\n",
    "    df (pd.DataFrame): DataFrame containing experiment records with columns \n",
    "                       'ID', 'Difficulty_Level', 'Complete', and 'time_spent'\n",
    "    \n",
    "    Returns:\n",
    "    pd.DataFrame: DataFrame with newly generated features\n",
    "    \"\"\"\n",
    "    # Ensure required columns exist\n",
    "    required_columns = ['ID', 'Difficulty_Level', 'Complete', 'time_spent']\n",
    "    for col in required_columns:\n",
    "        if col not in df.columns:\n",
    "            raise ValueError(f\"Input DataFrame is missing required column: {col}\")\n",
    "    \n",
    "    # Calculate total time_spent for Difficulty_Level 1 for each ID\n",
    "    level1_time = df[df['Difficulty_Level'] == 1].groupby('ID')['time_spent'].sum().reset_index(name='Level1_Time')\n",
    "    \n",
    "    # Calculate total time_spent for Difficulty_Level 2 for each ID\n",
    "    level2_time = df[df['Difficulty_Level'] == 2].groupby('ID')['time_spent'].sum().reset_index(name='Level2_Time')\n",
    "\n",
    "    # Calculate total time_spent for Difficulty_Level 3 for each ID\n",
    "    level3_time = df[df['Difficulty_Level'] == 3].groupby('ID')['time_spent'].sum().reset_index(name='Level3_Time')\n",
    "    \n",
    "    # Calculate total time_spent for Difficulty_Level 3 and Complete is False for each ID\n",
    "    level3_incomplete_time = df[(df['Difficulty_Level'] == 3) & \n",
    "                               (df['Complete'] == False)].groupby('ID')['time_spent'].sum().reset_index(name='Level3_Incomplete_Time')\n",
    "    \n",
    "    # Merge results\n",
    "    result = level1_time\n",
    "    for time_df in [level2_time, level3_time, level3_incomplete_time]:\n",
    "        result = pd.merge(result, time_df, on='ID', how='left')\n",
    "    \n",
    "    # Fill NaN values with 0 (if no records match the condition for an ID)\n",
    "    result = result.fillna(0)\n",
    "    \n",
    "    return result"
   ]
  },
  {
   "cell_type": "code",
   "execution_count": null,
   "id": "399ad526-10f4-41f3-a63f-7ded1c35531b",
   "metadata": {},
   "outputs": [],
   "source": [
    "time_feature = create_times_features(df3)"
   ]
  },
  {
   "cell_type": "code",
   "execution_count": null,
   "id": "47f2a415-199c-4822-b4d7-91646b805927",
   "metadata": {},
   "outputs": [],
   "source": [
    "# Create Features for the "
   ]
  },
  {
   "cell_type": "markdown",
   "id": "3eb2acee-ddd2-41b5-af0b-afd0df683e04",
   "metadata": {},
   "source": [
    "<span style=\"font-family: 'Georgia', serif; font-size: 20px; color: #2c7fb8;\">\n",
    "    Time Spent for Level 3 First Success\n",
    "</span>"
   ]
  },
  {
   "cell_type": "code",
   "execution_count": null,
   "id": "60b19805-7dc5-456b-a735-06c3fe885738",
   "metadata": {},
   "outputs": [],
   "source": [
    "def level3_first_success_time(df):\n",
    "    \n",
    "    filtered = df[(df['Difficulty_Level'] == 3) & (df['Complete'] == True)]\n",
    "    \n",
    "    result = filtered.groupby('ID').first().reset_index()\n",
    "    \n",
    "    result = result[['ID', 'time_spent']]\n",
    "\n",
    "    result.rename(columns={'time_spent': 'time_spent_difficulty_3_first_success'}, inplace=True)\n",
    "    \n",
    "    return result"
   ]
  },
  {
   "cell_type": "code",
   "execution_count": null,
   "id": "fdc52eca-e5fc-46ad-8685-2bf33d67aec2",
   "metadata": {},
   "outputs": [],
   "source": [
    "level3_time_feature = level3_first_success_time(df3)"
   ]
  },
  {
   "cell_type": "markdown",
   "id": "f613e148-49e2-47ba-b995-d34fc58f0a36",
   "metadata": {},
   "source": [
    "<span style=\"font-family: 'Georgia', serif; font-size: 20px; color: #2c7fb8;\">\n",
    "    Combine All Features Generated Above\n",
    "</span>"
   ]
  },
  {
   "cell_type": "code",
   "execution_count": null,
   "id": "e738e618-3613-4040-8c30-4a198dd31efc",
   "metadata": {},
   "outputs": [],
   "source": [
    "from functools import reduce\n",
    "\n",
    "age_feature = df3[[\"ID\",\"Age_group\"]].drop_duplicates()\n",
    "dataframes = [age_feature, track_feature, attempts_feature, time_feature, level3_time_feature]\n",
    "merged_df = reduce(lambda left, right: pd.merge(left, right, on='ID', how='inner'), dataframes)"
   ]
  },
  {
   "cell_type": "markdown",
   "id": "5302a056-e738-4a9e-b720-065e14e1e0b6",
   "metadata": {},
   "source": [
    "<span style=\"font-family: 'Georgia', serif; font-size: 20px; color: #2c7fb8;\">\n",
    "    Adding Success Rate\n",
    "</span>"
   ]
  },
  {
   "cell_type": "code",
   "execution_count": null,
   "id": "8477f404-26ba-4012-8653-e4b2afb52bf2",
   "metadata": {},
   "outputs": [],
   "source": [
    "merged_df[\"success_rate1\"] = (merged_df[\"Level1_Count\"]-merged_df[\"Level1_Incomplete_Count\"])/merged_df[\"Level1_Count\"]\n",
    "merged_df[\"success_rate2\"] = (merged_df[\"Level2_Count\"]-merged_df[\"Level2_Incomplete_Count\"])/merged_df[\"Level2_Count\"]\n",
    "merged_df[\"success_rate3\"] = (merged_df[\"Level3_Count\"]-merged_df[\"Level3_Incomplete_Count\"])/merged_df[\"Level3_Count\"]"
   ]
  },
  {
   "cell_type": "code",
   "execution_count": null,
   "id": "fc63eb6b-90e6-415c-b391-e4b4e8c7ea41",
   "metadata": {},
   "outputs": [],
   "source": [
    "# Sample to validate\n",
    "df[df[\"ID\"]==\"20230619-0008\"]"
   ]
  },
  {
   "cell_type": "code",
   "execution_count": null,
   "id": "3f306b28-d5d7-454f-9a96-6e8c4929406e",
   "metadata": {},
   "outputs": [],
   "source": [
    "merged_df"
   ]
  },
  {
   "cell_type": "code",
   "execution_count": null,
   "id": "50441f31-12cc-477f-a50a-e0c67180244f",
   "metadata": {},
   "outputs": [],
   "source": [
    "# Generate Excel File\n",
    "merged_df.to_excel(\"Enter Your Path\")"
   ]
  }
 ],
 "metadata": {
  "kernelspec": {
   "display_name": "Python [conda env:base] *",
   "language": "python",
   "name": "conda-base-py"
  },
  "language_info": {
   "codemirror_mode": {
    "name": "ipython",
    "version": 3
   },
   "file_extension": ".py",
   "mimetype": "text/x-python",
   "name": "python",
   "nbconvert_exporter": "python",
   "pygments_lexer": "ipython3",
   "version": "3.12.7"
  }
 },
 "nbformat": 4,
 "nbformat_minor": 5
}
